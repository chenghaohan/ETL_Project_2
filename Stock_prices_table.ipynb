{
 "cells": [
  {
   "cell_type": "code",
   "execution_count": 1,
   "metadata": {},
   "outputs": [],
   "source": [
    "# Stock price source - yahoo finance \n",
    "#Import dependencies\n",
    "import pandas as pd\n",
    "import os\n",
    "import matplotlib.pyplot as plt\n",
    "import numpy as np"
   ]
  },
  {
   "cell_type": "code",
   "execution_count": 2,
   "metadata": {},
   "outputs": [],
   "source": [
    "#Read stock price csv files \n",
    "zoom = pd.read_csv(\"Resources/zoom.csv\")\n",
    "slack = pd.read_csv(\"Resources/slack.csv\")\n",
    "shopify = pd.read_csv(\"Resources/shopify.csv\")\n",
    "cisco = pd.read_csv(\"Resources/cisco.csv\")\n",
    "\n",
    "#adjust date format in shopify dataframe\n",
    "\n",
    "shopify[\"Date\"]=pd.to_datetime(shopify[\"Date\"])\n",
    "shopify[\"Date\"]=shopify[\"Date\"].dt.strftime(\"%Y-%m-%d\")"
   ]
  },
  {
   "cell_type": "code",
   "execution_count": 3,
   "metadata": {},
   "outputs": [],
   "source": [
    "#Remove other columns in the df, only keep data and closing price\n",
    "\n",
    "zoom=zoom[[\"Date\",\"Close\"]]\n",
    "slack=slack[[\"Date\",\"Close\"]]\n",
    "cisco=cisco[[\"Date\",\"Close\"]]\n",
    "shopify=shopify[[\"Date\",\"Close\"]]"
   ]
  },
  {
   "cell_type": "code",
   "execution_count": 4,
   "metadata": {},
   "outputs": [
    {
     "data": {
      "text/html": [
       "<div>\n",
       "<style scoped>\n",
       "    .dataframe tbody tr th:only-of-type {\n",
       "        vertical-align: middle;\n",
       "    }\n",
       "\n",
       "    .dataframe tbody tr th {\n",
       "        vertical-align: top;\n",
       "    }\n",
       "\n",
       "    .dataframe thead th {\n",
       "        text-align: right;\n",
       "    }\n",
       "</style>\n",
       "<table border=\"1\" class=\"dataframe\">\n",
       "  <thead>\n",
       "    <tr style=\"text-align: right;\">\n",
       "      <th></th>\n",
       "      <th>Date</th>\n",
       "      <th>Zoom</th>\n",
       "      <th>Slack</th>\n",
       "      <th>Cisco</th>\n",
       "      <th>Shopify</th>\n",
       "    </tr>\n",
       "  </thead>\n",
       "  <tbody>\n",
       "    <tr>\n",
       "      <th>0</th>\n",
       "      <td>2019-10-31</td>\n",
       "      <td>69.89</td>\n",
       "      <td>22.00</td>\n",
       "      <td>47.51</td>\n",
       "      <td>313.57</td>\n",
       "    </tr>\n",
       "    <tr>\n",
       "      <th>1</th>\n",
       "      <td>2019-11-01</td>\n",
       "      <td>70.39</td>\n",
       "      <td>21.94</td>\n",
       "      <td>47.03</td>\n",
       "      <td>316.76</td>\n",
       "    </tr>\n",
       "    <tr>\n",
       "      <th>2</th>\n",
       "      <td>2019-11-04</td>\n",
       "      <td>70.12</td>\n",
       "      <td>21.94</td>\n",
       "      <td>47.48</td>\n",
       "      <td>307.91</td>\n",
       "    </tr>\n",
       "    <tr>\n",
       "      <th>3</th>\n",
       "      <td>2019-11-05</td>\n",
       "      <td>66.89</td>\n",
       "      <td>20.75</td>\n",
       "      <td>47.76</td>\n",
       "      <td>295.50</td>\n",
       "    </tr>\n",
       "    <tr>\n",
       "      <th>4</th>\n",
       "      <td>2019-11-06</td>\n",
       "      <td>66.83</td>\n",
       "      <td>20.14</td>\n",
       "      <td>48.27</td>\n",
       "      <td>295.02</td>\n",
       "    </tr>\n",
       "  </tbody>\n",
       "</table>\n",
       "</div>"
      ],
      "text/plain": [
       "         Date   Zoom  Slack  Cisco  Shopify\n",
       "0  2019-10-31  69.89  22.00  47.51   313.57\n",
       "1  2019-11-01  70.39  21.94  47.03   316.76\n",
       "2  2019-11-04  70.12  21.94  47.48   307.91\n",
       "3  2019-11-05  66.89  20.75  47.76   295.50\n",
       "4  2019-11-06  66.83  20.14  48.27   295.02"
      ]
     },
     "execution_count": 4,
     "metadata": {},
     "output_type": "execute_result"
    }
   ],
   "source": [
    "#Merge different stock price dataframe into a combined dataframe\n",
    "\n",
    "combined_df = pd.merge(zoom, slack, how='outer', on=\"Date\", suffixes=[\"_Zoom\", \"_Slack\"])\n",
    "combined_df = pd.merge(combined_df, cisco, how='outer', on=\"Date\", suffixes=[\"_Slack\",\"_Cisco\"])\n",
    "combined_df = pd.merge(combined_df, shopify, how='outer', on=\"Date\",  suffixes=[\"_Cisco\", \"_Shopify\"])\n",
    "\n",
    "#change the names for columns\n",
    "\n",
    "combined_df = combined_df.rename(columns = {\"Close_Zoom\":\"Zoom\",\"Close_Slack\":\"Slack\",\"Close_Cisco\":\"Cisco\",\"Close_Shopify\":\"Shopify\"})\n",
    "combined_df[[\"Zoom\",\"Slack\",\"Cisco\",\"Shopify\"]]=combined_df[[\"Zoom\",\"Slack\",\"Cisco\",\"Shopify\"]].round(2)\n",
    "\n",
    "#Display combined dataframe\n",
    "combined_df.head()"
   ]
  }
 ],
 "metadata": {
  "kernelspec": {
   "display_name": "Python 3",
   "language": "python",
   "name": "python3"
  },
  "language_info": {
   "codemirror_mode": {
    "name": "ipython",
    "version": 3
   },
   "file_extension": ".py",
   "mimetype": "text/x-python",
   "name": "python",
   "nbconvert_exporter": "python",
   "pygments_lexer": "ipython3",
   "version": "3.7.3"
  }
 },
 "nbformat": 4,
 "nbformat_minor": 2
}
