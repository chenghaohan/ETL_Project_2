{
 "cells": [
  {
   "cell_type": "code",
   "execution_count": 1,
   "metadata": {},
   "outputs": [],
   "source": [
    "#Import Dependencies\n",
    "\n",
    "from bs4 import BeautifulSoup as bs\n",
    "import requests\n",
    "import pymongo\n",
    "import pandas as pd"
   ]
  },
  {
   "cell_type": "code",
   "execution_count": 2,
   "metadata": {},
   "outputs": [],
   "source": [
    "# Initialize PyMongo to work with MongoDBs\n",
    "\n",
    "conn = 'mongodb://localhost:27017'\n",
    "client = pymongo.MongoClient(conn)"
   ]
  },
  {
   "cell_type": "code",
   "execution_count": 3,
   "metadata": {},
   "outputs": [],
   "source": [
    " # Define database and collection\n",
    "    \n",
    "db = client.cnn_db\n",
    "collection = db.timeline"
   ]
  },
  {
   "cell_type": "code",
   "execution_count": 4,
   "metadata": {},
   "outputs": [],
   "source": [
    "# URL of page to be scraped\n",
    "\n",
    "url = 'https://www.nytimes.com/interactive/2020/science/coronavirus-vaccine-tracker.html'\n",
    "\n",
    "# Retrieve page with the requests module\n",
    "\n",
    "response = requests.get(url)\n",
    "\n",
    "# Create BeautifulSoup object; parse with 'html.parser'\n",
    "\n",
    "soup = bs(response.text, 'html.parser')"
   ]
  },
  {
   "cell_type": "code",
   "execution_count": 6,
   "metadata": {},
   "outputs": [
    {
     "data": {
      "text/plain": [
       "'Covid-19 Vaccine Tracker: Latest Updates - The New York Times'"
      ]
     },
     "execution_count": 6,
     "metadata": {},
     "output_type": "execute_result"
    }
   ],
   "source": [
    "soup.title.text"
   ]
  },
  {
   "cell_type": "code",
   "execution_count": 19,
   "metadata": {},
   "outputs": [
    {
     "data": {
      "text/plain": [
       "[<table class=\"g-vaccine-table\"><tbody>\n",
       " <tr>\n",
       " <th class=\"g-table-text g-table-heading g-hed g-news\" colspan=\"2\" style=\"color: #bc3c40\">New additions and recent updates</th>\n",
       " </tr>\n",
       " <!-- 1215 print --->\n",
       " <tr>\n",
       " <td class=\"g-small g-gray\">Dec. 11</td>\n",
       " <td class=\"g-news g-last\">The F.D.A. authorizes the <a href=\"#pfizer\">Pfizer-BioNTech</a> vaccine for emergency use.</td>\n",
       " </tr>\n",
       " <tr>\n",
       " <td class=\"g-small g-gray\">Dec. 11</td>\n",
       " <td class=\"g-news g-last\"><a href=\"#astrazeneca\">AstraZeneca</a> joins forces with Russia’s <a href=\"#gamaleya\">Gamaleya Institute</a>.</td>\n",
       " </tr>\n",
       " <tr>\n",
       " <td class=\"g-small g-gray\">Dec. 11</td>\n",
       " <td class=\"g-news g-last\">The <a href=\"#imb\">Chinese Academy of Medical Sciences</a> moves to Phase 3.</td>\n",
       " </tr>\n",
       " <tr>\n",
       " <td class=\"g-small g-gray\">Dec. 11</td>\n",
       " <td class=\"g-news g-last\"><a href=\"#sanofi2\">Sanofi</a> and <a href=\"#sanofi2\">GSK</a> announce disappointing trial results in older adults.</td>\n",
       " </tr>\n",
       " <tr>\n",
       " <td class=\"g-small g-gray\">Dec. 10</td>\n",
       " <td class=\"g-news g-last\">A vaccine from Australia’s <a href=\"#uqueensland\">University of Queensland</a> is abandoned.</td>\n",
       " </tr>\n",
       " <!-- <tr>\n",
       " <td class=\"g-small g-gray\">Dec. 10</td>\n",
       " <td class=\"g-news g-last\">An F.D.A. panel favors authorizing the <a href=\"#pfizer\">Pfizer-BioNTech</a> vaccine.</td>\n",
       " </tr> -->\n",
       " </tbody></table>,\n",
       " <table class=\"g-vaccine-table\"><tbody>\n",
       " <tr>\n",
       " <th class=\"g-table-text g-table-heading g-hed g-news\" colspan=\"4\" style=\"color: #bc3c40\">Leading vaccines</th>\n",
       " </tr>\n",
       " <tr>\n",
       " <th class=\"g-table-text g-table-heading g-small\">Developer</th>\n",
       " <th class=\"g-table-text g-table-heading g-small\">Type</th>\n",
       " <th class=\"g-table-text g-table-heading g-small\" style=\"text-align: center;\">Phase</th>\n",
       " <th class=\"g-table-text g-table-heading g-small g-last\">Status</th>\n",
       " </tr>\n",
       " <tr>\n",
       " <td><a href=\"#pfizer\">Pfizer-BioNTech</a></td>\n",
       " <td class=\"g-small\">mRNA</td>\n",
       " <td class=\"g-small g-center\"><span class=\"g-2\">2</span><span class=\"g-3\">3</span></td>\n",
       " <td class=\"g-small g-last\">Approved in Canada.<br/>Emergency use in U.S., U.K., U.A.E.</td>\n",
       " </tr>\n",
       " <tr>\n",
       " <td><a href=\"#moderna\">Moderna</a></td>\n",
       " <td class=\"g-small\">mRNA</td>\n",
       " <td class=\"g-small g-center\"><span class=\"g-3\">3</span></td>\n",
       " <td class=\"g-small g-last\">Under F.D.A. review.</td>\n",
       " </tr>\n",
       " <tr><td><a href=\"#cansino\">CanSino</a></td>\n",
       " <td class=\"g-small\">Adenovirus</td>\n",
       " <td class=\"g-small g-center\"><span class=\"g-3\">3</span></td>\n",
       " <td class=\"g-small g-last\">Limited use in China.</td>\n",
       " </tr>\n",
       " <tr>\n",
       " <td><a href=\"#gamaleya\">Gamaleya</a></td>\n",
       " <td class=\"g-small\">Adenovirus</td>\n",
       " <td class=\"g-small g-center\"><span class=\"g-3\">3</span></td>\n",
       " <td class=\"g-small g-last\">Early use in Russia.</td>\n",
       " </tr>\n",
       " <tr>\n",
       " <td><a href=\"#jnj\">Johnson &amp; Johnson</a></td>\n",
       " <td class=\"g-small\">Adenovirus</td>\n",
       " <td class=\"g-small g-center\"><span class=\"g-3\">3</span></td>\n",
       " <td class=\"g-small g-last\"></td>\n",
       " </tr>\n",
       " <tr>\n",
       " <td><a href=\"#astrazeneca\">Oxford-AstraZeneca</a></td>\n",
       " <td class=\"g-small\">Adenovirus</td>\n",
       " <td class=\"g-small g-center\"><span class=\"g-2\">2</span><span class=\"g-3\">3</span></td>\n",
       " <td class=\"g-small g-last\"></td>\n",
       " </tr>\n",
       " <tr><td><a href=\"#novavax\">Novavax</a></td>\n",
       " <td class=\"g-small\">Protein</td>\n",
       " <td class=\"g-small g-center\"><span class=\"g-3\">3</span></td>\n",
       " <td class=\"g-small g-last\"></td>\n",
       " </tr>\n",
       " <tr>\n",
       " <td><a href=\"#vector\">Vector Institute</a></td>\n",
       " <td class=\"g-small\">Protein</td>\n",
       " <td class=\"g-small g-center\"><span class=\"g-1\">1</span><span class=\"g-2\">2</span></td>\n",
       " <td class=\"g-small g-last\">Early use in Russia.</td>\n",
       " </tr>\n",
       " <tr><td><a href=\"#beijing\">Sinopharm-Beijing</a></td>\n",
       " <td class=\"g-small\">Inactivated</td>\n",
       " <td class=\"g-small g-center\"><span class=\"g-3\">3</span></td>\n",
       " <td class=\"g-small g-last\">Approved in U.A.E.</td>\n",
       " </tr>\n",
       " <tr>\n",
       " <td><a href=\"#sinopharm\">Sinopharm-Wuhan</a></td>\n",
       " <td class=\"g-small\">Inactivated</td>\n",
       " <td class=\"g-small g-center\"><span class=\"g-3\">3</span></td>\n",
       " <td class=\"g-small g-last\">Limited use in U.A.E.</td>\n",
       " </tr>\n",
       " <tr>\n",
       " <td><a href=\"#sinovac\">Sinovac</a></td>\n",
       " <td class=\"g-small\">Inactivated</td>\n",
       " <td class=\"g-small g-center\"><span class=\"g-3\">3</span></td>\n",
       " <td class=\"g-small\">Limited use in China.</td>\n",
       " </tr>\n",
       " </tbody></table>]"
      ]
     },
     "execution_count": 19,
     "metadata": {},
     "output_type": "execute_result"
    }
   ],
   "source": [
    "soup.find_all('table', class_='g-vaccine-table')"
   ]
  },
  {
   "cell_type": "code",
   "execution_count": 22,
   "metadata": {},
   "outputs": [
    {
     "data": {
      "text/plain": [
       "[]"
      ]
     },
     "execution_count": 22,
     "metadata": {},
     "output_type": "execute_result"
    }
   ],
   "source": [
    "soup.find_all('table', class_='g-small')"
   ]
  },
  {
   "cell_type": "code",
   "execution_count": null,
   "metadata": {},
   "outputs": [],
   "source": []
  }
 ],
 "metadata": {
  "kernelspec": {
   "display_name": "Python 3",
   "language": "python",
   "name": "python3"
  },
  "language_info": {
   "codemirror_mode": {
    "name": "ipython",
    "version": 3
   },
   "file_extension": ".py",
   "mimetype": "text/x-python",
   "name": "python",
   "nbconvert_exporter": "python",
   "pygments_lexer": "ipython3",
   "version": "3.8.3"
  }
 },
 "nbformat": 4,
 "nbformat_minor": 4
}
