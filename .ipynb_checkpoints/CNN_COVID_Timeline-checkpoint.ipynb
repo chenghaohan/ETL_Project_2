{
 "cells": [
  {
   "cell_type": "code",
   "execution_count": 1,
   "metadata": {},
   "outputs": [],
   "source": [
    "#Import Dependencies\n",
    "\n",
    "from bs4 import BeautifulSoup as bs\n",
    "import requests\n",
    "import pymongo\n",
    "import pandas as pd\n"
   ]
  },
  {
   "cell_type": "code",
   "execution_count": 2,
   "metadata": {},
   "outputs": [],
   "source": [
    "# Initialize PyMongo to work with MongoDBs\n",
    "\n",
    "conn = 'mongodb://localhost:27017'\n",
    "client = pymongo.MongoClient(conn)\n"
   ]
  },
  {
   "cell_type": "code",
   "execution_count": 3,
   "metadata": {},
   "outputs": [],
   "source": [
    " # Define database and collection\n",
    "    \n",
    "db = client.cnn_db\n",
    "collection = db.timeline\n"
   ]
  },
  {
   "cell_type": "code",
   "execution_count": 4,
   "metadata": {},
   "outputs": [],
   "source": [
    "# URL of page to be scraped\n",
    "\n",
    "url = 'https://dataviz.nbcnews.com/projects/20200302-covid-timeline/index.html?initialWidth=1160&childId=embed-20200302-covid-timeline&parentTitle=Coronavirus%20timeline%3A%20Tracking%20the%20critical%20moments%20of%20Covid-19&parentUrl=https%3A%2F%2Fwww.nbcnews.com%2Fhealth%2Fhealth-news%2Fcoronavirus-timeline-tracking-critical-moments-covid-19-n1154341'\n",
    "\n",
    "# Retrieve page with the requests module\n",
    "\n",
    "response = requests.get(url)\n",
    "\n",
    "# Create BeautifulSoup object; parse with 'html.parser'\n",
    "\n",
    "soup = bs(response.text, 'html.parser')\n"
   ]
  },
  {
   "cell_type": "code",
   "execution_count": 27,
   "metadata": {},
   "outputs": [],
   "source": [
    "#Scrape CNN timeline for the key dates and add to a list\n",
    "\n",
    "date_results = soup.find_all('div', class_='holder-container')\n",
    "\n",
    "date_list =[]\n",
    "for result in date_results:\n",
    "    date = result.find('p', class_='vt-date')\n",
    "    if date==\" Dec. 31, 2019 \":\n",
    "        date_list.append(date.text)\n",
    "    if date==\" Jan. 7, 2020 \":\n",
    "        date_list.append(date.text)\n",
    "    else:\n",
    "        date_list.append(date.text+', 2020')\n"
   ]
  },
  {
   "cell_type": "code",
   "execution_count": 28,
   "metadata": {},
   "outputs": [],
   "source": [
    "#Scrape CNN timeline for the news stories and add to list\n",
    "\n",
    "news_results = soup.find_all('div', class_='holder-text')\n",
    "\n",
    "news_list=[]\n",
    "for result in news_results:\n",
    "    news = result.find('p', class_='vt-contex')\n",
    "    news_list.append(news.text.strip())\n"
   ]
  },
  {
   "cell_type": "code",
   "execution_count": 29,
   "metadata": {},
   "outputs": [
    {
     "data": {
      "text/html": [
       "<div>\n",
       "<style scoped>\n",
       "    .dataframe tbody tr th:only-of-type {\n",
       "        vertical-align: middle;\n",
       "    }\n",
       "\n",
       "    .dataframe tbody tr th {\n",
       "        vertical-align: top;\n",
       "    }\n",
       "\n",
       "    .dataframe thead th {\n",
       "        text-align: right;\n",
       "    }\n",
       "</style>\n",
       "<table border=\"1\" class=\"dataframe\">\n",
       "  <thead>\n",
       "    <tr style=\"text-align: right;\">\n",
       "      <th></th>\n",
       "      <th>Date</th>\n",
       "      <th>News Event</th>\n",
       "    </tr>\n",
       "  </thead>\n",
       "  <tbody>\n",
       "    <tr>\n",
       "      <th>0</th>\n",
       "      <td>Dec. 31, 2019, 2020</td>\n",
       "      <td>Chinese officials in Wuhan in China's central ...</td>\n",
       "    </tr>\n",
       "    <tr>\n",
       "      <th>1</th>\n",
       "      <td>Jan. 7, 2020, 2020</td>\n",
       "      <td>The outbreak was identified as a new coronavirus.</td>\n",
       "    </tr>\n",
       "    <tr>\n",
       "      <th>2</th>\n",
       "      <td>Jan. 11, 2020</td>\n",
       "      <td>China reported its first known death from an i...</td>\n",
       "    </tr>\n",
       "    <tr>\n",
       "      <th>3</th>\n",
       "      <td>Jan. 20, 2020</td>\n",
       "      <td>A World Health Organization situation report d...</td>\n",
       "    </tr>\n",
       "    <tr>\n",
       "      <th>4</th>\n",
       "      <td>Jan. 21, 2020</td>\n",
       "      <td>The United States announced its first confirme...</td>\n",
       "    </tr>\n",
       "    <tr>\n",
       "      <th>...</th>\n",
       "      <td>...</td>\n",
       "      <td>...</td>\n",
       "    </tr>\n",
       "    <tr>\n",
       "      <th>980</th>\n",
       "      <td>Dec. 6, 2020</td>\n",
       "      <td>President Trump announces his lawyer Rudy Giul...</td>\n",
       "    </tr>\n",
       "    <tr>\n",
       "      <th>981</th>\n",
       "      <td>Dec. 8, 2020</td>\n",
       "      <td>The U.S. counts its 15 millionth Covid-19 case.</td>\n",
       "    </tr>\n",
       "    <tr>\n",
       "      <th>982</th>\n",
       "      <td>Dec. 8, 2020</td>\n",
       "      <td>Britain’s Margaret Keenan, 90, becomes the fir...</td>\n",
       "    </tr>\n",
       "    <tr>\n",
       "      <th>983</th>\n",
       "      <td>Dec. 9, 2020</td>\n",
       "      <td>The United Arab Emirates becomes the first nat...</td>\n",
       "    </tr>\n",
       "    <tr>\n",
       "      <th>984</th>\n",
       "      <td>Dec. 9, 2020</td>\n",
       "      <td>The U.S. reports a record 3,103 Covid deaths.</td>\n",
       "    </tr>\n",
       "  </tbody>\n",
       "</table>\n",
       "<p>985 rows × 2 columns</p>\n",
       "</div>"
      ],
      "text/plain": [
       "                    Date                                         News Event\n",
       "0    Dec. 31, 2019, 2020  Chinese officials in Wuhan in China's central ...\n",
       "1     Jan. 7, 2020, 2020  The outbreak was identified as a new coronavirus.\n",
       "2          Jan. 11, 2020  China reported its first known death from an i...\n",
       "3          Jan. 20, 2020  A World Health Organization situation report d...\n",
       "4          Jan. 21, 2020  The United States announced its first confirme...\n",
       "..                   ...                                                ...\n",
       "980         Dec. 6, 2020  President Trump announces his lawyer Rudy Giul...\n",
       "981         Dec. 8, 2020    The U.S. counts its 15 millionth Covid-19 case.\n",
       "982         Dec. 8, 2020  Britain’s Margaret Keenan, 90, becomes the fir...\n",
       "983         Dec. 9, 2020  The United Arab Emirates becomes the first nat...\n",
       "984         Dec. 9, 2020      The U.S. reports a record 3,103 Covid deaths.\n",
       "\n",
       "[985 rows x 2 columns]"
      ]
     },
     "execution_count": 29,
     "metadata": {},
     "output_type": "execute_result"
    }
   ],
   "source": [
    "#Create dataframe with date and news story from CNN timeline using pandas\n",
    "\n",
    "Timeline_df = pd.DataFrame({\"Date\":date_list, \"News Event\":news_list})\n",
    "Timeline_df"
   ]
  },
  {
   "cell_type": "code",
   "execution_count": null,
   "metadata": {},
   "outputs": [],
   "source": []
  },
  {
   "cell_type": "code",
   "execution_count": null,
   "metadata": {},
   "outputs": [],
   "source": []
  }
 ],
 "metadata": {
  "kernelspec": {
   "display_name": "Python 3",
   "language": "python",
   "name": "python3"
  },
  "language_info": {
   "codemirror_mode": {
    "name": "ipython",
    "version": 3
   },
   "file_extension": ".py",
   "mimetype": "text/x-python",
   "name": "python",
   "nbconvert_exporter": "python",
   "pygments_lexer": "ipython3",
   "version": "3.8.3"
  }
 },
 "nbformat": 4,
 "nbformat_minor": 4
}
